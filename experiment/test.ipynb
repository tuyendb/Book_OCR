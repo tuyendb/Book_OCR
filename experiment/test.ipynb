{
 "cells": [
  {
   "cell_type": "code",
   "execution_count": 2,
   "metadata": {},
   "outputs": [
    {
     "name": "stdout",
     "output_type": "stream",
     "text": [
      "51 17 74\n",
      "34\n"
     ]
    },
    {
     "data": {
      "text/plain": [
       "-1"
      ]
     },
     "execution_count": 2,
     "metadata": {},
     "output_type": "execute_result"
    }
   ],
   "source": [
    "import cv2\n",
    "\n",
    "img_file_path = '../book/results2/2.jpg'\n",
    "img = cv2.imread(img_file_path)\n",
    "heights = []\n",
    "gray_img = cv2.cvtColor(img.copy(), cv2.COLOR_BGR2GRAY)\n",
    "_, thresh_img = cv2.threshold(gray_img.copy(), 200, 255, cv2.THRESH_BINARY)\n",
    "kernel = cv2.getStructuringElement(cv2.MORPH_RECT, (12, 1))\n",
    "erode_img = cv2.erode(thresh_img.copy(), kernel=kernel, iterations=3)\n",
    "height, width = erode_img.shape[:2]\n",
    "new_erode_img = erode_img[0:height, 0:width]         # int(0.1 * width):int(0.9 * width)\n",
    "new_height, new_width = new_erode_img.shape[:2]\n",
    "above_point = below_point = None\n",
    "for i1 in range(new_height):\n",
    "    for j1 in range(int(new_width/2)):\n",
    "        if 255 not in new_erode_img[i1, j1:j1+int(new_width/2)+1]:\n",
    "            above_point = i1\n",
    "            break\n",
    "    if above_point is not None:\n",
    "        break\n",
    "for i2 in range(new_height):\n",
    "    for j2 in range(int(new_width/2)):\n",
    "        if 255 not in new_erode_img[-i2-1, j2:j2+int(new_width/2)+1]:\n",
    "            below_point = new_height - i2 -1\n",
    "            break\n",
    "    if below_point is not None:\n",
    "        break\n",
    "min_character_height = below_point - above_point \n",
    "print(below_point, above_point, new_height)\n",
    "print(min_character_height)\n",
    "new_erode_img = cv2.cvtColor(new_erode_img, cv2.COLOR_GRAY2BGR)\n",
    "cv2.line(new_erode_img, (int(new_width/2), above_point), (int(new_width/2), below_point), (0,0,255), 2)\n",
    "cv2.imshow('erode', new_erode_img)\n",
    "cv2.imshow('orig', img)\n",
    "cv2.waitKey()\n"
   ]
  },
  {
   "cell_type": "markdown",
   "metadata": {},
   "source": [
    "FIND TEXT HEIGHT BY OLD METHOD"
   ]
  },
  {
   "cell_type": "code",
   "execution_count": 1,
   "metadata": {},
   "outputs": [
    {
     "name": "stdout",
     "output_type": "stream",
     "text": [
      "18.0\n"
     ]
    },
    {
     "data": {
      "text/plain": [
       "-1"
      ]
     },
     "execution_count": 1,
     "metadata": {},
     "output_type": "execute_result"
    }
   ],
   "source": [
    "import cv2\n",
    "import numpy as np\n",
    "\n",
    "img_file_path = '../book/results2/98.jpg'\n",
    "img = cv2.imread(img_file_path)\n",
    "heights = []\n",
    "gray_img = cv2.cvtColor(img.copy(), cv2.COLOR_BGR2GRAY)\n",
    "_, thresh_img = cv2.threshold(gray_img.copy(), 200, 255, cv2.THRESH_BINARY)\n",
    "kernel = cv2.getStructuringElement(cv2.MORPH_RECT, (10, 1))\n",
    "erode_img = cv2.erode(thresh_img.copy(), kernel=kernel, iterations=3)\n",
    "height, width = erode_img.shape[:2]\n",
    "text_heights = []\n",
    "for i in range(width):\n",
    "    start_point = end_point = None\n",
    "    vertical_line = erode_img[:, i]\n",
    "    for j in range(1, height):\n",
    "        if vertical_line[j-1] == 255 and vertical_line[j] == 0:\n",
    "            start_point = j\n",
    "        elif vertical_line[j-1] == 0 and vertical_line[j] == 0 and j-1 == 0:\n",
    "            start_point = 0\n",
    "        if vertical_line[j-1] == 0 and vertical_line[j+1] == 255:\n",
    "            end_point = j-1\n",
    "        elif vertical_line[j-1] ==0 and vertical_line[j] == 0 and j == height-1:\n",
    "            end_point = j\n",
    "        if end_point is not None and start_point is not None and end_point > start_point:\n",
    "            text_heights.append(end_point - start_point)\n",
    "            \n",
    "median_height = np.median(np.array(sorted(text_heights)))\n",
    "print(median_height)\n",
    "cv2.imshow('erode', erode_img)\n",
    "cv2.waitKey()"
   ]
  },
  {
   "cell_type": "code",
   "execution_count": 7,
   "metadata": {},
   "outputs": [
    {
     "name": "stdout",
     "output_type": "stream",
     "text": [
      "[0, 5, 10, 15, 20, 25, 30, 35]\n"
     ]
    }
   ],
   "source": [
    "bins = [5*f for f in range(8)]\n",
    "print(bins)"
   ]
  },
  {
   "cell_type": "code",
   "execution_count": 3,
   "metadata": {},
   "outputs": [
    {
     "name": "stdout",
     "output_type": "stream",
     "text": [
      "43\n"
     ]
    },
    {
     "data": {
      "image/png": "[encoded data removed]",
      "text/plain": [
       "<Figure size 432x288 with 1 Axes>"
      ]
     },
     "metadata": {
      "needs_background": "light"
     },
     "output_type": "display_data"
    }
   ],
   "source": [
    "import json\n",
    "import matplotlib.pyplot as plt\n",
    "import numpy as np\n",
    "from scipy.signal import find_peaks\n",
    "\n",
    "with open('../data4.json') as jsonfile:\n",
    "    data = json.load(jsonfile)\n",
    "    paragr_heights = []\n",
    "    paragr_thicknesses = []\n",
    "    paragr_x_begin = []\n",
    "    for id in data.keys():\n",
    "        paragr_heights.append(data[id]['height'])\n",
    "        paragr_thicknesses.append(data[id]['thickness'])\n",
    "        paragr_x_begin.append(data[id]['x_begin'])\n",
    "print(set(paragr_heights).__len__())\n",
    "plt.hist(paragr_heights, bins=max(paragr_heights))\n",
    "plt.xlabel('Height')\n",
    "plt.ylabel(\"Amount\")\n",
    "plt.grid(True)\n",
    "plt.show()\n",
    "peaks, probs = find_peaks(paragr_heights, height=(0,20))\n"
   ]
  },
  {
   "cell_type": "code",
   "execution_count": 75,
   "metadata": {},
   "outputs": [
    {
     "data": {
      "image/png": "[encoded data removed]",
      "text/plain": [
       "<Figure size 432x288 with 1 Axes>"
      ]
     },
     "metadata": {
      "needs_background": "light"
     },
     "output_type": "display_data"
    },
    {
     "name": "stdout",
     "output_type": "stream",
     "text": [
      "{'peak_heights': array([57., 43., 58., 57., 35., 35., 35., 35., 36., 33., 34., 51., 46.,\n",
      "       59., 31., 46., 31., 64., 31., 60., 35., 35., 51., 59., 31., 44.,\n",
      "       30., 31., 41., 31., 35., 43., 31.])}\n",
      "[  21   52   55   89  128  202  228  273  324  352  381  395  406  448\n",
      "  491  523  559  603  637  672  731  825  828  861 1036 1142 1146 1150\n",
      " 1181 1232 1313 1340 1345]\n"
     ]
    }
   ],
   "source": [
    "import matplotlib.pyplot as plt\n",
    "from scipy.signal import find_peaks\n",
    "import json\n",
    "import numpy as np\n",
    "\n",
    "with open('../data4.json') as jsonfile:\n",
    "    data = json.load(jsonfile)\n",
    "    paragr_heights = []\n",
    "    for id in data.keys():\n",
    "        paragr_heights.append(data[id]['height'])\n",
    "        \n",
    "# with open('../data6.json', 'r', encoding='utf-8') as f:\n",
    "#     data1 = json.load(f)\n",
    "#     paragraphs = []\n",
    "#     for id in data1.keys():\n",
    "#         paragraphs.append(data1[id][\"paragraph\"])\n",
    "paragr_heights = np.array(paragr_heights)\n",
    "peaks, peak_probs = find_peaks(paragr_heights, height=30)\n",
    "troughs, tr_probs = find_peaks(-paragr_heights, height=(-20, -10))\n",
    "plt.plot(paragr_heights)\n",
    "plt.plot(peaks, paragr_heights[peaks], '^')\n",
    "plt.plot(troughs, paragr_heights[troughs], 'v')\n",
    "plt.xlabel(\"Indice\")\n",
    "plt.ylabel(\"Height\")\n",
    "plt.show()\n",
    "print(peak_probs)\n",
    "print(peaks)\n"
   ]
  },
  {
   "cell_type": "code",
   "execution_count": 76,
   "metadata": {},
   "outputs": [
    {
     "name": "stdout",
     "output_type": "stream",
     "text": [
      "[3, 1, 11, 3, 0, 0, 0, 2, 0, 1, 0, 20, 148, 178, 215, 466, 51, 43, 41, 10, 18, 18, 75, 54, 1, 1, 1, 3, 0, 3, 2, 12, 0, 1, 3, 7, 1, 0, 1, 0, 0, 2, 0, 2, 5, 0, 4, 0, 0, 0, 0, 2, 0, 0, 0, 0, 0, 2, 2, 2, 1, 0, 0, 0, 1, 0, 1, 0, 0, 0, 0, 0, 0, 1]\n",
      "[ 2 15 22 31]\n"
     ]
    },
    {
     "data": {
      "image/png": "[encoded data removed]",
      "text/plain": [
       "<Figure size 432x288 with 1 Axes>"
      ]
     },
     "metadata": {
      "needs_background": "light"
     },
     "output_type": "display_data"
    }
   ],
   "source": [
    "import matplotlib.pyplot as plt\n",
    "from scipy.signal import find_peaks\n",
    "import json\n",
    "import numpy as np\n",
    "\n",
    "with open('../data4.json') as jsonfile:\n",
    "    data = json.load(jsonfile)\n",
    "    paragr_heights = []\n",
    "    for id in data.keys():\n",
    "        paragr_heights.append(data[id]['height'])\n",
    "new_paragr_heights = list(set(paragr_heights))\n",
    "new_height_amount = []\n",
    "for height in new_paragr_heights:\n",
    "    new_height_amount.append(paragr_heights.count(height))\n",
    "max_height = max(new_paragr_heights)    \n",
    "compare_height = [f for f in range(max_height+1)]\n",
    "final_amount = []\n",
    "for ch in compare_height:\n",
    "    if ch in new_paragr_heights:\n",
    "        id = new_paragr_heights.index(ch)\n",
    "        final_amount.append(new_height_amount[id])\n",
    "    else:\n",
    "        final_amount.append(0)\n",
    "print(final_amount)\n",
    "final_amount = np.array(final_amount)\n",
    "peaks, peak_probs = find_peaks(final_amount, height=10)\n",
    "troughs, tr_probs = find_peaks(-final_amount)\n",
    "plt.plot(final_amount)\n",
    "plt.plot(peaks, final_amount[peaks], '^')\n",
    "plt.plot(troughs, final_amount[troughs], 'v')\n",
    "plt.xlabel(\"Height\")\n",
    "plt.ylabel(\"Amount\")\n",
    "print(peaks)\n",
    "plt.show()\n",
    "\n"
   ]
  },
  {
   "cell_type": "code",
   "execution_count": 32,
   "metadata": {},
   "outputs": [
    {
     "name": "stdout",
     "output_type": "stream",
     "text": [
      "[1, 2, 3, 43, 0]\n"
     ]
    }
   ],
   "source": []
  }
 ],
 "metadata": {
  "interpreter": {
   "hash": "5b631e383c93a813049711e8d846e2930295abfb34769a5352b452aa014e8231"
  },
  "kernelspec": {
   "display_name": "Python 3.8.13 ('bookocr3')",
   "language": "python",
   "name": "python3"
  },
  "language_info": {
   "codemirror_mode": {
    "name": "ipython",
    "version": 3
   },
   "file_extension": ".py",
   "mimetype": "text/x-python",
   "name": "python",
   "nbconvert_exporter": "python",
   "pygments_lexer": "ipython3",
   "version": "3.8.13"
  },
  "orig_nbformat": 4
 },
 "nbformat": 4,
 "nbformat_minor": 2
}
